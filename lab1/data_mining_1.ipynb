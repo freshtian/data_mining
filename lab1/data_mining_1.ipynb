{
 "cells": [
  {
   "cell_type": "code",
   "execution_count": 1,
   "id": "initial_id",
   "metadata": {
    "collapsed": true,
    "ExecuteTime": {
     "end_time": "2025-02-19T11:12:42.856665Z",
     "start_time": "2025-02-19T11:12:42.840150Z"
    }
   },
   "outputs": [
    {
     "name": "stdout",
     "output_type": "stream",
     "text": [
      "Sum of even numbers from 1 to 100: 2550\n",
      "Sum of odd numbers from 1 to 100: 2500\n"
     ]
    }
   ],
   "source": [
    "ans_even=0\n",
    "ans_odd=0\n",
    "for i in range(1,101):\n",
    "    if i%2==0:\n",
    "        ans_even+=i\n",
    "    else:\n",
    "        ans_odd+=i\n",
    "print(\"Sum of even numbers from 1 to 100:\",ans_even)\n",
    "print(\"Sum of odd numbers from 1 to 100:\",ans_odd)"
   ]
  },
  {
   "cell_type": "code",
   "outputs": [
    {
     "name": "stdout",
     "output_type": "stream",
     "text": [
      "[[1, 6], [2, 6], [8, 10]]\n",
      "[[1, 5]]\n"
     ]
    }
   ],
   "source": [
    "def merge(interval):\n",
    "    merge_interval = []\n",
    "    for i in range(0, len(interval)-1, 1):\n",
    "        if interval[i][1] >= interval[i+1][0]:\n",
    "            merge_interval.append([interval[i][0], max(interval[i][1], interval[i+1][1])])\n",
    "        else:\n",
    "            merge_interval.append(interval[i])\n",
    "    \n",
    "    return merge_interval\n",
    "interval = [[1,3],[2,6],[8,10],[15,18]]\n",
    "print(merge(interval))\n",
    "interval = [[1,4],[4,5]]\n",
    "print(merge(interval))"
   ],
   "metadata": {
    "collapsed": false,
    "ExecuteTime": {
     "end_time": "2025-02-19T11:18:32.135524Z",
     "start_time": "2025-02-19T11:18:32.119530Z"
    }
   },
   "id": "444a3656fc9d4fdb",
   "execution_count": 3
  },
  {
   "cell_type": "code",
   "outputs": [
    {
     "name": "stdout",
     "output_type": "stream",
     "text": [
      "Number of lines read: 1\n",
      "['1\\n']\n"
     ]
    }
   ],
   "source": [
    "def read_file(filename):\n",
    "    with open(filename, 'r') as f:\n",
    "        lines = f.readlines()\n",
    "    \n",
    "    # 只读取前十行\n",
    "    lines = lines[:10]\n",
    "    \n",
    "    # 写一个1到文件末尾\n",
    "    with open(filename, 'w') as f:\n",
    "        f.write('1\\n')\n",
    "    \n",
    "    print(\"Number of lines read:\", len(lines))\n",
    "    \n",
    "    return lines\n",
    "\n",
    "filename = \"2024-05-26 深圳市 跑步 460821550143143944.txt\"\n",
    "print(read_file(filename))\n"
   ],
   "metadata": {
    "collapsed": false,
    "ExecuteTime": {
     "end_time": "2025-02-19T11:25:34.957497Z",
     "start_time": "2025-02-19T11:25:34.942498Z"
    }
   },
   "id": "aaf613184d008a84",
   "execution_count": 9
  },
  {
   "cell_type": "code",
   "outputs": [
    {
     "name": "stdout",
     "output_type": "stream",
     "text": [
      "       timestamp     start time  total elapsed time  total timer time  \\\n",
      "0  2024/8/6 9:21  2024/8/6 9:14              378.56            378.56   \n",
      "1  2024/8/6 9:27  2024/8/6 9:21              354.56            354.56   \n",
      "2  2024/8/6 9:31  2024/8/6 9:27              266.84            266.84   \n",
      "3  2024/8/6 9:34  2024/8/6 9:31              155.43            155.43   \n",
      "4  2024/8/6 9:37  2024/8/6 9:34              215.52            215.52   \n",
      "\n",
      "   total distance  total calories  avg heart rate  max heart rate  \\\n",
      "0         1000.00              69             156             164   \n",
      "1         1000.00              70             165             179   \n",
      "2          628.60              38             147             180   \n",
      "3          569.06              35             173             186   \n",
      "4          594.75              38             157             186   \n",
      "\n",
      "   avg cadence  max cadence  ...  avg vertical oscillation  \\\n",
      "0           85           92  ...                         0   \n",
      "1           86           89  ...                         0   \n",
      "2           80           89  ...                         0   \n",
      "3           88           92  ...                         0   \n",
      "4           86           93  ...                         0   \n",
      "\n",
      "   avg stance time percent  avg stance time enhanced avg speed  \\\n",
      "0                        0                0              2.642   \n",
      "1                        0                0              2.820   \n",
      "2                        0                0              2.356   \n",
      "3                        0                0              3.661   \n",
      "4                        0                0              2.760   \n",
      "\n",
      "   enhanced max speed  avg vertical ratio  avg step length  Effort Pace  kind  \\\n",
      "0               3.155                   0              970        2.873    热身   \n",
      "1               3.125                   0              970        3.636    热身   \n",
      "2               3.049                   0              920        2.127    热身   \n",
      "3               3.846                   0             1240        4.950    中坡   \n",
      "4               3.846                   0              970        2.487  慢跑下坡   \n",
      "\n",
      "   label  \n",
      "0     慢组  \n",
      "1     快组  \n",
      "2     慢组  \n",
      "3     快组  \n",
      "4     慢组  \n",
      "\n",
      "[5 rows x 26 columns]\n"
     ]
    }
   ],
   "source": [
    "import pandas as pd\n",
    "data=pd.read_csv('20240806 462490488264491013-lap.csv')\n",
    "data['new']='好'\n",
    "\n",
    "\n",
    "print(data[:5])\n",
    "data.to_csv('20240806 462490488264491013-lap-new.csv',index=False)"
   ],
   "metadata": {
    "collapsed": false,
    "ExecuteTime": {
     "end_time": "2025-02-19T11:26:55.173875Z",
     "start_time": "2025-02-19T11:26:55.157877Z"
    }
   },
   "id": "30d7fcd38cd02b3a",
   "execution_count": 12
  }
 ],
 "metadata": {
  "kernelspec": {
   "display_name": "Python 3",
   "language": "python",
   "name": "python3"
  },
  "language_info": {
   "codemirror_mode": {
    "name": "ipython",
    "version": 2
   },
   "file_extension": ".py",
   "mimetype": "text/x-python",
   "name": "python",
   "nbconvert_exporter": "python",
   "pygments_lexer": "ipython2",
   "version": "2.7.6"
  }
 },
 "nbformat": 4,
 "nbformat_minor": 5
}
