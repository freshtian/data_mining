{
 "cells": [
  {
   "cell_type": "code",
   "execution_count": 1,
   "metadata": {
    "ExecuteTime": {
     "end_time": "2025-03-05T11:22:21.260013Z",
     "start_time": "2025-03-05T11:22:19.509684Z"
    }
   },
   "outputs": [
    {
     "name": "stderr",
     "output_type": "stream",
     "text": [
      "C:\\Users\\21009\\AppData\\Local\\Temp\\ipykernel_20800\\3133057945.py:2: DtypeWarning: Columns (22,32) have mixed types. Specify dtype option on import or set low_memory=False.\n",
      "  b = pd.read_csv('Building_Permits.csv')\n"
     ]
    }
   ],
   "source": [
    "import pandas as pd\n",
    "b = pd.read_csv('Building_Permits.csv')\n",
    "m = pd.read_csv('melb_data.csv')\n",
    "# n = pd.read_csv('NFL.csv')"
   ]
  },
  {
   "cell_type": "code",
   "execution_count": 2,
   "metadata": {
    "ExecuteTime": {
     "end_time": "2025-03-05T11:22:21.435047Z",
     "start_time": "2025-03-05T11:22:21.262013Z"
    }
   },
   "outputs": [
    {
     "name": "stdout",
     "output_type": "stream",
     "text": [
      "<class 'pandas.core.frame.DataFrame'>\n",
      "RangeIndex: 198900 entries, 0 to 198899\n",
      "Data columns (total 43 columns):\n",
      " #   Column                                  Non-Null Count   Dtype  \n",
      "---  ------                                  --------------   -----  \n",
      " 0   Permit Number                           198900 non-null  object \n",
      " 1   Permit Type                             198900 non-null  int64  \n",
      " 2   Permit Type Definition                  198900 non-null  object \n",
      " 3   Permit Creation Date                    198900 non-null  object \n",
      " 4   Block                                   198900 non-null  object \n",
      " 5   Lot                                     198900 non-null  object \n",
      " 6   Street Number                           198900 non-null  int64  \n",
      " 7   Street Number Suffix                    2216 non-null    object \n",
      " 8   Street Name                             198900 non-null  object \n",
      " 9   Street Suffix                           196132 non-null  object \n",
      " 10  Unit                                    29479 non-null   float64\n",
      " 11  Unit Suffix                             1961 non-null    object \n",
      " 12  Description                             198610 non-null  object \n",
      " 13  Current Status                          198900 non-null  object \n",
      " 14  Current Status Date                     198900 non-null  object \n",
      " 15  Filed Date                              198900 non-null  object \n",
      " 16  Issued Date                             183960 non-null  object \n",
      " 17  Completed Date                          97191 non-null   object \n",
      " 18  First Construction Document Date        183954 non-null  object \n",
      " 19  Structural Notification                 6922 non-null    object \n",
      " 20  Number of Existing Stories              156116 non-null  float64\n",
      " 21  Number of Proposed Stories              156032 non-null  float64\n",
      " 22  Voluntary Soft-Story Retrofit           35 non-null      object \n",
      " 23  Fire Only Permit                        18827 non-null   object \n",
      " 24  Permit Expiration Date                  147020 non-null  object \n",
      " 25  Estimated Cost                          160834 non-null  float64\n",
      " 26  Revised Cost                            192834 non-null  float64\n",
      " 27  Existing Use                            157786 non-null  object \n",
      " 28  Existing Units                          147362 non-null  float64\n",
      " 29  Proposed Use                            156461 non-null  object \n",
      " 30  Proposed Units                          147989 non-null  float64\n",
      " 31  Plansets                                161591 non-null  float64\n",
      " 32  TIDF Compliance                         2 non-null       object \n",
      " 33  Existing Construction Type              155534 non-null  float64\n",
      " 34  Existing Construction Type Description  155534 non-null  object \n",
      " 35  Proposed Construction Type              155738 non-null  float64\n",
      " 36  Proposed Construction Type Description  155738 non-null  object \n",
      " 37  Site Permit                             5359 non-null    object \n",
      " 38  Supervisor District                     197183 non-null  float64\n",
      " 39  Neighborhoods - Analysis Boundaries     197175 non-null  object \n",
      " 40  Zipcode                                 197184 non-null  float64\n",
      " 41  Location                                197200 non-null  object \n",
      " 42  Record ID                               198900 non-null  int64  \n",
      "dtypes: float64(12), int64(3), object(28)\n",
      "memory usage: 65.3+ MB\n",
      "<class 'pandas.core.frame.DataFrame'>\n",
      "RangeIndex: 13580 entries, 0 to 13579\n",
      "Data columns (total 21 columns):\n",
      " #   Column         Non-Null Count  Dtype  \n",
      "---  ------         --------------  -----  \n",
      " 0   Suburb         13580 non-null  object \n",
      " 1   Address        13580 non-null  object \n",
      " 2   Rooms          13580 non-null  int64  \n",
      " 3   Type           13580 non-null  object \n",
      " 4   Price          13580 non-null  float64\n",
      " 5   Method         13580 non-null  object \n",
      " 6   SellerG        13580 non-null  object \n",
      " 7   Date           13580 non-null  object \n",
      " 8   Distance       13580 non-null  float64\n",
      " 9   Postcode       13580 non-null  float64\n",
      " 10  Bedroom2       13580 non-null  float64\n",
      " 11  Bathroom       13580 non-null  float64\n",
      " 12  Car            13518 non-null  float64\n",
      " 13  Landsize       13580 non-null  float64\n",
      " 14  BuildingArea   7130 non-null   float64\n",
      " 15  YearBuilt      8205 non-null   float64\n",
      " 16  CouncilArea    12211 non-null  object \n",
      " 17  Lattitude      13580 non-null  float64\n",
      " 18  Longtitude     13580 non-null  float64\n",
      " 19  Regionname     13580 non-null  object \n",
      " 20  Propertycount  13580 non-null  float64\n",
      "dtypes: float64(12), int64(1), object(8)\n",
      "memory usage: 2.2+ MB\n"
     ]
    }
   ],
   "source": [
    "b.info()\n",
    "m.info()\n",
    "# n.iloc[:10, :100].info()"
   ]
  },
  {
   "cell_type": "code",
   "execution_count": 3,
   "metadata": {
    "ExecuteTime": {
     "end_time": "2025-03-05T11:22:21.467049Z",
     "start_time": "2025-03-05T11:22:21.436053Z"
    }
   },
   "outputs": [
    {
     "data": {
      "text/plain": "            Suburb           Address  Rooms Type      Price Method  \\\n9916      Hawthorn       8 Leslie St      3    h  2370000.0      S   \n10380        Lalor    13 Rosemary Dr      3    h   572000.0      S   \n5684   South Yarra  7/48 Cromwell Rd      1    u   410000.0      S   \n\n             SellerG        Date  Distance  Postcode  ...  Bathroom  Car  \\\n9916          Jellis  24/06/2017       5.3    3122.0  ...       2.0  1.0   \n10380           Love  27/05/2017      16.3    3075.0  ...       1.0  2.0   \n5684   hockingstuart  24/09/2016       3.3    3141.0  ...       1.0  0.0   \n\n       Landsize  BuildingArea  YearBuilt  CouncilArea Lattitude  Longtitude  \\\n9916      362.0         188.0     1890.0   Boroondara -37.82866   145.04259   \n10380     640.0         140.0     1975.0   Whittlesea -37.65910   145.00549   \n5684        0.0          48.0     1960.0  Stonnington -37.84270   145.00060   \n\n                  Regionname Propertycount  \n9916   Southern Metropolitan       11308.0  \n10380  Northern Metropolitan        8279.0  \n5684   Southern Metropolitan       14887.0  \n\n[3 rows x 21 columns]",
      "text/html": "<div>\n<style scoped>\n    .dataframe tbody tr th:only-of-type {\n        vertical-align: middle;\n    }\n\n    .dataframe tbody tr th {\n        vertical-align: top;\n    }\n\n    .dataframe thead th {\n        text-align: right;\n    }\n</style>\n<table border=\"1\" class=\"dataframe\">\n  <thead>\n    <tr style=\"text-align: right;\">\n      <th></th>\n      <th>Suburb</th>\n      <th>Address</th>\n      <th>Rooms</th>\n      <th>Type</th>\n      <th>Price</th>\n      <th>Method</th>\n      <th>SellerG</th>\n      <th>Date</th>\n      <th>Distance</th>\n      <th>Postcode</th>\n      <th>...</th>\n      <th>Bathroom</th>\n      <th>Car</th>\n      <th>Landsize</th>\n      <th>BuildingArea</th>\n      <th>YearBuilt</th>\n      <th>CouncilArea</th>\n      <th>Lattitude</th>\n      <th>Longtitude</th>\n      <th>Regionname</th>\n      <th>Propertycount</th>\n    </tr>\n  </thead>\n  <tbody>\n    <tr>\n      <th>9916</th>\n      <td>Hawthorn</td>\n      <td>8 Leslie St</td>\n      <td>3</td>\n      <td>h</td>\n      <td>2370000.0</td>\n      <td>S</td>\n      <td>Jellis</td>\n      <td>24/06/2017</td>\n      <td>5.3</td>\n      <td>3122.0</td>\n      <td>...</td>\n      <td>2.0</td>\n      <td>1.0</td>\n      <td>362.0</td>\n      <td>188.0</td>\n      <td>1890.0</td>\n      <td>Boroondara</td>\n      <td>-37.82866</td>\n      <td>145.04259</td>\n      <td>Southern Metropolitan</td>\n      <td>11308.0</td>\n    </tr>\n    <tr>\n      <th>10380</th>\n      <td>Lalor</td>\n      <td>13 Rosemary Dr</td>\n      <td>3</td>\n      <td>h</td>\n      <td>572000.0</td>\n      <td>S</td>\n      <td>Love</td>\n      <td>27/05/2017</td>\n      <td>16.3</td>\n      <td>3075.0</td>\n      <td>...</td>\n      <td>1.0</td>\n      <td>2.0</td>\n      <td>640.0</td>\n      <td>140.0</td>\n      <td>1975.0</td>\n      <td>Whittlesea</td>\n      <td>-37.65910</td>\n      <td>145.00549</td>\n      <td>Northern Metropolitan</td>\n      <td>8279.0</td>\n    </tr>\n    <tr>\n      <th>5684</th>\n      <td>South Yarra</td>\n      <td>7/48 Cromwell Rd</td>\n      <td>1</td>\n      <td>u</td>\n      <td>410000.0</td>\n      <td>S</td>\n      <td>hockingstuart</td>\n      <td>24/09/2016</td>\n      <td>3.3</td>\n      <td>3141.0</td>\n      <td>...</td>\n      <td>1.0</td>\n      <td>0.0</td>\n      <td>0.0</td>\n      <td>48.0</td>\n      <td>1960.0</td>\n      <td>Stonnington</td>\n      <td>-37.84270</td>\n      <td>145.00060</td>\n      <td>Southern Metropolitan</td>\n      <td>14887.0</td>\n    </tr>\n  </tbody>\n</table>\n<p>3 rows × 21 columns</p>\n</div>"
     },
     "execution_count": 3,
     "metadata": {},
     "output_type": "execute_result"
    }
   ],
   "source": [
    "m.sample(3)"
   ]
  },
  {
   "cell_type": "code",
   "execution_count": 4,
   "metadata": {
    "ExecuteTime": {
     "end_time": "2025-03-05T11:22:21.498570Z",
     "start_time": "2025-03-05T11:22:21.468049Z"
    }
   },
   "outputs": [
    {
     "data": {
      "text/plain": "       Suburb  Address  Rooms   Type  Price  Method  SellerG   Date  Distance  \\\n0       False    False  False  False  False   False    False  False     False   \n1       False    False  False  False  False   False    False  False     False   \n2       False    False  False  False  False   False    False  False     False   \n3       False    False  False  False  False   False    False  False     False   \n4       False    False  False  False  False   False    False  False     False   \n...       ...      ...    ...    ...    ...     ...      ...    ...       ...   \n13575   False    False  False  False  False   False    False  False     False   \n13576   False    False  False  False  False   False    False  False     False   \n13577   False    False  False  False  False   False    False  False     False   \n13578   False    False  False  False  False   False    False  False     False   \n13579   False    False  False  False  False   False    False  False     False   \n\n       Postcode  ...  Bathroom    Car  Landsize  BuildingArea  YearBuilt  \\\n0         False  ...     False  False     False          True       True   \n1         False  ...     False  False     False         False      False   \n2         False  ...     False  False     False         False      False   \n3         False  ...     False  False     False          True       True   \n4         False  ...     False  False     False         False      False   \n...         ...  ...       ...    ...       ...           ...        ...   \n13575     False  ...     False  False     False          True      False   \n13576     False  ...     False  False     False         False      False   \n13577     False  ...     False  False     False          True      False   \n13578     False  ...     False  False     False         False      False   \n13579     False  ...     False  False     False         False      False   \n\n       CouncilArea  Lattitude  Longtitude  Regionname  Propertycount  \n0            False      False       False       False          False  \n1            False      False       False       False          False  \n2            False      False       False       False          False  \n3            False      False       False       False          False  \n4            False      False       False       False          False  \n...            ...        ...         ...         ...            ...  \n13575         True      False       False       False          False  \n13576         True      False       False       False          False  \n13577         True      False       False       False          False  \n13578         True      False       False       False          False  \n13579         True      False       False       False          False  \n\n[13580 rows x 21 columns]",
      "text/html": "<div>\n<style scoped>\n    .dataframe tbody tr th:only-of-type {\n        vertical-align: middle;\n    }\n\n    .dataframe tbody tr th {\n        vertical-align: top;\n    }\n\n    .dataframe thead th {\n        text-align: right;\n    }\n</style>\n<table border=\"1\" class=\"dataframe\">\n  <thead>\n    <tr style=\"text-align: right;\">\n      <th></th>\n      <th>Suburb</th>\n      <th>Address</th>\n      <th>Rooms</th>\n      <th>Type</th>\n      <th>Price</th>\n      <th>Method</th>\n      <th>SellerG</th>\n      <th>Date</th>\n      <th>Distance</th>\n      <th>Postcode</th>\n      <th>...</th>\n      <th>Bathroom</th>\n      <th>Car</th>\n      <th>Landsize</th>\n      <th>BuildingArea</th>\n      <th>YearBuilt</th>\n      <th>CouncilArea</th>\n      <th>Lattitude</th>\n      <th>Longtitude</th>\n      <th>Regionname</th>\n      <th>Propertycount</th>\n    </tr>\n  </thead>\n  <tbody>\n    <tr>\n      <th>0</th>\n      <td>False</td>\n      <td>False</td>\n      <td>False</td>\n      <td>False</td>\n      <td>False</td>\n      <td>False</td>\n      <td>False</td>\n      <td>False</td>\n      <td>False</td>\n      <td>False</td>\n      <td>...</td>\n      <td>False</td>\n      <td>False</td>\n      <td>False</td>\n      <td>True</td>\n      <td>True</td>\n      <td>False</td>\n      <td>False</td>\n      <td>False</td>\n      <td>False</td>\n      <td>False</td>\n    </tr>\n    <tr>\n      <th>1</th>\n      <td>False</td>\n      <td>False</td>\n      <td>False</td>\n      <td>False</td>\n      <td>False</td>\n      <td>False</td>\n      <td>False</td>\n      <td>False</td>\n      <td>False</td>\n      <td>False</td>\n      <td>...</td>\n      <td>False</td>\n      <td>False</td>\n      <td>False</td>\n      <td>False</td>\n      <td>False</td>\n      <td>False</td>\n      <td>False</td>\n      <td>False</td>\n      <td>False</td>\n      <td>False</td>\n    </tr>\n    <tr>\n      <th>2</th>\n      <td>False</td>\n      <td>False</td>\n      <td>False</td>\n      <td>False</td>\n      <td>False</td>\n      <td>False</td>\n      <td>False</td>\n      <td>False</td>\n      <td>False</td>\n      <td>False</td>\n      <td>...</td>\n      <td>False</td>\n      <td>False</td>\n      <td>False</td>\n      <td>False</td>\n      <td>False</td>\n      <td>False</td>\n      <td>False</td>\n      <td>False</td>\n      <td>False</td>\n      <td>False</td>\n    </tr>\n    <tr>\n      <th>3</th>\n      <td>False</td>\n      <td>False</td>\n      <td>False</td>\n      <td>False</td>\n      <td>False</td>\n      <td>False</td>\n      <td>False</td>\n      <td>False</td>\n      <td>False</td>\n      <td>False</td>\n      <td>...</td>\n      <td>False</td>\n      <td>False</td>\n      <td>False</td>\n      <td>True</td>\n      <td>True</td>\n      <td>False</td>\n      <td>False</td>\n      <td>False</td>\n      <td>False</td>\n      <td>False</td>\n    </tr>\n    <tr>\n      <th>4</th>\n      <td>False</td>\n      <td>False</td>\n      <td>False</td>\n      <td>False</td>\n      <td>False</td>\n      <td>False</td>\n      <td>False</td>\n      <td>False</td>\n      <td>False</td>\n      <td>False</td>\n      <td>...</td>\n      <td>False</td>\n      <td>False</td>\n      <td>False</td>\n      <td>False</td>\n      <td>False</td>\n      <td>False</td>\n      <td>False</td>\n      <td>False</td>\n      <td>False</td>\n      <td>False</td>\n    </tr>\n    <tr>\n      <th>...</th>\n      <td>...</td>\n      <td>...</td>\n      <td>...</td>\n      <td>...</td>\n      <td>...</td>\n      <td>...</td>\n      <td>...</td>\n      <td>...</td>\n      <td>...</td>\n      <td>...</td>\n      <td>...</td>\n      <td>...</td>\n      <td>...</td>\n      <td>...</td>\n      <td>...</td>\n      <td>...</td>\n      <td>...</td>\n      <td>...</td>\n      <td>...</td>\n      <td>...</td>\n      <td>...</td>\n    </tr>\n    <tr>\n      <th>13575</th>\n      <td>False</td>\n      <td>False</td>\n      <td>False</td>\n      <td>False</td>\n      <td>False</td>\n      <td>False</td>\n      <td>False</td>\n      <td>False</td>\n      <td>False</td>\n      <td>False</td>\n      <td>...</td>\n      <td>False</td>\n      <td>False</td>\n      <td>False</td>\n      <td>True</td>\n      <td>False</td>\n      <td>True</td>\n      <td>False</td>\n      <td>False</td>\n      <td>False</td>\n      <td>False</td>\n    </tr>\n    <tr>\n      <th>13576</th>\n      <td>False</td>\n      <td>False</td>\n      <td>False</td>\n      <td>False</td>\n      <td>False</td>\n      <td>False</td>\n      <td>False</td>\n      <td>False</td>\n      <td>False</td>\n      <td>False</td>\n      <td>...</td>\n      <td>False</td>\n      <td>False</td>\n      <td>False</td>\n      <td>False</td>\n      <td>False</td>\n      <td>True</td>\n      <td>False</td>\n      <td>False</td>\n      <td>False</td>\n      <td>False</td>\n    </tr>\n    <tr>\n      <th>13577</th>\n      <td>False</td>\n      <td>False</td>\n      <td>False</td>\n      <td>False</td>\n      <td>False</td>\n      <td>False</td>\n      <td>False</td>\n      <td>False</td>\n      <td>False</td>\n      <td>False</td>\n      <td>...</td>\n      <td>False</td>\n      <td>False</td>\n      <td>False</td>\n      <td>True</td>\n      <td>False</td>\n      <td>True</td>\n      <td>False</td>\n      <td>False</td>\n      <td>False</td>\n      <td>False</td>\n    </tr>\n    <tr>\n      <th>13578</th>\n      <td>False</td>\n      <td>False</td>\n      <td>False</td>\n      <td>False</td>\n      <td>False</td>\n      <td>False</td>\n      <td>False</td>\n      <td>False</td>\n      <td>False</td>\n      <td>False</td>\n      <td>...</td>\n      <td>False</td>\n      <td>False</td>\n      <td>False</td>\n      <td>False</td>\n      <td>False</td>\n      <td>True</td>\n      <td>False</td>\n      <td>False</td>\n      <td>False</td>\n      <td>False</td>\n    </tr>\n    <tr>\n      <th>13579</th>\n      <td>False</td>\n      <td>False</td>\n      <td>False</td>\n      <td>False</td>\n      <td>False</td>\n      <td>False</td>\n      <td>False</td>\n      <td>False</td>\n      <td>False</td>\n      <td>False</td>\n      <td>...</td>\n      <td>False</td>\n      <td>False</td>\n      <td>False</td>\n      <td>False</td>\n      <td>False</td>\n      <td>True</td>\n      <td>False</td>\n      <td>False</td>\n      <td>False</td>\n      <td>False</td>\n    </tr>\n  </tbody>\n</table>\n<p>13580 rows × 21 columns</p>\n</div>"
     },
     "execution_count": 4,
     "metadata": {},
     "output_type": "execute_result"
    }
   ],
   "source": [
    "m.isnull()"
   ]
  },
  {
   "cell_type": "code",
   "execution_count": 8,
   "metadata": {
    "ExecuteTime": {
     "end_time": "2025-03-05T11:26:32.873087Z",
     "start_time": "2025-03-05T11:26:32.852569Z"
    }
   },
   "outputs": [
    {
     "data": {
      "text/plain": "Rooms            3.989800e+04\nPrice            1.460779e+10\nDistance         1.376710e+05\nPostcode         4.217000e+07\nBedroom2         3.958200e+04\nBathroom         2.083500e+04\nCar              2.176500e+04\nLandsize         7.583291e+06\nBuildingArea     1.083529e+06\nYearBuilt        1.612023e+07\nLattitude       -5.134490e+05\nLongtitude       1.969035e+06\nPropertycount    1.012310e+08\ndtype: float64"
     },
     "execution_count": 8,
     "metadata": {},
     "output_type": "execute_result"
    }
   ],
   "source": [
    "m.select_dtypes(exclude=['object']).sum()"
   ]
  },
  {
   "cell_type": "code",
   "execution_count": 9,
   "metadata": {
    "ExecuteTime": {
     "end_time": "2025-03-05T11:27:12.260520Z",
     "start_time": "2025-03-05T11:27:12.237520Z"
    }
   },
   "outputs": [
    {
     "data": {
      "text/plain": "Suburb              0\nAddress             0\nRooms               0\nType                0\nPrice               0\nMethod              0\nSellerG             0\nDate                0\nDistance            0\nPostcode            0\nBedroom2            0\nBathroom            0\nCar                62\nLandsize            0\nBuildingArea     6450\nYearBuilt        5375\nCouncilArea      1369\nLattitude           0\nLongtitude          0\nRegionname          0\nPropertycount       0\ndtype: int64"
     },
     "execution_count": 9,
     "metadata": {},
     "output_type": "execute_result"
    }
   ],
   "source": [
    "m.isnull().sum()"
   ]
  },
  {
   "cell_type": "code",
   "execution_count": 10,
   "metadata": {
    "ExecuteTime": {
     "end_time": "2025-03-05T11:27:35.591206Z",
     "start_time": "2025-03-05T11:27:35.552695Z"
    }
   },
   "outputs": [
    {
     "ename": "TypeError",
     "evalue": "'tuple' object is not callable",
     "output_type": "error",
     "traceback": [
      "\u001B[1;31m---------------------------------------------------------------------------\u001B[0m",
      "\u001B[1;31mTypeError\u001B[0m                                 Traceback (most recent call last)",
      "Cell \u001B[1;32mIn[10], line 1\u001B[0m\n\u001B[1;32m----> 1\u001B[0m \u001B[43mm\u001B[49m\u001B[38;5;241;43m.\u001B[39;49m\u001B[43mshape\u001B[49m\u001B[43m(\u001B[49m\u001B[43m)\u001B[49m\n",
      "\u001B[1;31mTypeError\u001B[0m: 'tuple' object is not callable"
     ]
    }
   ],
   "source": [
    "m.shape()"
   ]
  },
  {
   "cell_type": "code",
   "execution_count": 11,
   "metadata": {
    "ExecuteTime": {
     "end_time": "2025-03-05T11:28:57.235758Z",
     "start_time": "2025-03-05T11:28:57.223963Z"
    }
   },
   "outputs": [
    {
     "data": {
      "text/plain": "(198900, 43)"
     },
     "execution_count": 11,
     "metadata": {},
     "output_type": "execute_result"
    }
   ],
   "source": [
    "b.shape"
   ]
  },
  {
   "cell_type": "code",
   "execution_count": 14,
   "metadata": {
    "ExecuteTime": {
     "end_time": "2025-03-05T11:30:08.642601Z",
     "start_time": "2025-03-05T11:30:08.621595Z"
    }
   },
   "outputs": [
    {
     "data": {
      "text/plain": "Rooms            2.937997e+00\nPrice            1.075684e+06\nDistance         1.013778e+01\nPostcode         3.105302e+03\nBedroom2         2.914728e+00\nBathroom         1.534242e+00\nCar              1.610075e+00\nLandsize         5.584161e+02\nBuildingArea     1.519676e+02\nYearBuilt        1.964684e+03\nLattitude       -3.780920e+01\nLongtitude       1.449952e+02\nPropertycount    7.454417e+03\ndtype: float64"
     },
     "execution_count": 14,
     "metadata": {},
     "output_type": "execute_result"
    }
   ],
   "source": [
    "m.select_dtypes(exclude=['object']).mean()"
   ]
  },
  {
   "cell_type": "code",
   "execution_count": 16,
   "metadata": {
    "ExecuteTime": {
     "end_time": "2025-03-05T11:30:42.635115Z",
     "start_time": "2025-03-05T11:30:42.610969Z"
    }
   },
   "outputs": [
    {
     "data": {
      "text/plain": "Rooms                 3.000000\nPrice            903000.000000\nDistance              9.200000\nPostcode           3084.000000\nBedroom2              3.000000\nBathroom              1.000000\nCar                   2.000000\nLandsize            440.000000\nBuildingArea        126.000000\nYearBuilt          1970.000000\nLattitude           -37.802355\nLongtitude          145.000100\nPropertycount      6555.000000\ndtype: float64"
     },
     "execution_count": 16,
     "metadata": {},
     "output_type": "execute_result"
    }
   ],
   "source": [
    "m.select_dtypes(exclude=['object']).median()"
   ]
  },
  {
   "cell_type": "code",
   "execution_count": 20,
   "metadata": {
    "ExecuteTime": {
     "end_time": "2025-03-05T11:31:28.743002Z",
     "start_time": "2025-03-05T11:31:28.716003Z"
    }
   },
   "outputs": [
    {
     "data": {
      "text/plain": "Rooms            2.937997e+00\nPrice            1.075684e+06\nDistance         1.013778e+01\nPostcode         3.105302e+03\nBedroom2         2.914728e+00\nBathroom         1.534242e+00\nCar              1.610075e+00\nLandsize         5.584161e+02\nBuildingArea     1.519676e+02\nYearBuilt        1.964684e+03\nLattitude       -3.780920e+01\nLongtitude       1.449952e+02\nPropertycount    7.454417e+03\ndtype: float64"
     },
     "execution_count": 20,
     "metadata": {},
     "output_type": "execute_result"
    }
   ],
   "source": [
    "m.fillna(m.select_dtypes(exclude=['object']).mean() ,inplace=True)\n",
    "m.select_dtypes(exclude=['object']).mean()"
   ]
  },
  {
   "cell_type": "code",
   "execution_count": 21,
   "metadata": {
    "ExecuteTime": {
     "end_time": "2025-03-05T11:33:06.415522Z",
     "start_time": "2025-03-05T11:33:06.389518Z"
    }
   },
   "outputs": [
    {
     "data": {
      "text/plain": "     Permit Number  Permit Type  Permit Type Definition Permit Creation Date  \\\n1000  201301087445            8  otc alterations permit           01/08/2013   \n1001  201301087431            8  otc alterations permit           01/08/2013   \n1002  201301087446            8  otc alterations permit           01/08/2013   \n1003  201301087429            8  otc alterations permit           01/08/2013   \n1004  201301087448            8  otc alterations permit           01/08/2013   \n1005  201301087447            8  otc alterations permit           01/08/2013   \n1006  201301087449            8  otc alterations permit           01/08/2013   \n1007  201301087450            8  otc alterations permit           01/08/2013   \n1008       M365147            8  otc alterations permit           01/08/2013   \n1009       M365147            8  otc alterations permit           01/08/2013   \n\n      Block   Lot  Street Number Street Number Suffix Street Name  \\\n1000   6907   013             48                  NaN    Mercedes   \n1001   3604  058A           4075                  NaN        20th   \n1002   3923   006           1550                  NaN      Bryant   \n1003   3705   039             55                  NaN        05th   \n1004   3923   006           1550                  NaN      Bryant   \n1005   0613   029           2330                  NaN        Clay   \n1006   3608   017           3350                    B        21st   \n1007  1861A   005            910                  NaN      Lawton   \n1008   1018   007            414                  NaN      Spruce   \n1009   1018   007            416                  NaN      Spruce   \n\n     Street Suffix  \n1000            Wy  \n1001            St  \n1002            St  \n1003            St  \n1004            St  \n1005            St  \n1006            St  \n1007            St  \n1008            St  \n1009            St  ",
      "text/html": "<div>\n<style scoped>\n    .dataframe tbody tr th:only-of-type {\n        vertical-align: middle;\n    }\n\n    .dataframe tbody tr th {\n        vertical-align: top;\n    }\n\n    .dataframe thead th {\n        text-align: right;\n    }\n</style>\n<table border=\"1\" class=\"dataframe\">\n  <thead>\n    <tr style=\"text-align: right;\">\n      <th></th>\n      <th>Permit Number</th>\n      <th>Permit Type</th>\n      <th>Permit Type Definition</th>\n      <th>Permit Creation Date</th>\n      <th>Block</th>\n      <th>Lot</th>\n      <th>Street Number</th>\n      <th>Street Number Suffix</th>\n      <th>Street Name</th>\n      <th>Street Suffix</th>\n    </tr>\n  </thead>\n  <tbody>\n    <tr>\n      <th>1000</th>\n      <td>201301087445</td>\n      <td>8</td>\n      <td>otc alterations permit</td>\n      <td>01/08/2013</td>\n      <td>6907</td>\n      <td>013</td>\n      <td>48</td>\n      <td>NaN</td>\n      <td>Mercedes</td>\n      <td>Wy</td>\n    </tr>\n    <tr>\n      <th>1001</th>\n      <td>201301087431</td>\n      <td>8</td>\n      <td>otc alterations permit</td>\n      <td>01/08/2013</td>\n      <td>3604</td>\n      <td>058A</td>\n      <td>4075</td>\n      <td>NaN</td>\n      <td>20th</td>\n      <td>St</td>\n    </tr>\n    <tr>\n      <th>1002</th>\n      <td>201301087446</td>\n      <td>8</td>\n      <td>otc alterations permit</td>\n      <td>01/08/2013</td>\n      <td>3923</td>\n      <td>006</td>\n      <td>1550</td>\n      <td>NaN</td>\n      <td>Bryant</td>\n      <td>St</td>\n    </tr>\n    <tr>\n      <th>1003</th>\n      <td>201301087429</td>\n      <td>8</td>\n      <td>otc alterations permit</td>\n      <td>01/08/2013</td>\n      <td>3705</td>\n      <td>039</td>\n      <td>55</td>\n      <td>NaN</td>\n      <td>05th</td>\n      <td>St</td>\n    </tr>\n    <tr>\n      <th>1004</th>\n      <td>201301087448</td>\n      <td>8</td>\n      <td>otc alterations permit</td>\n      <td>01/08/2013</td>\n      <td>3923</td>\n      <td>006</td>\n      <td>1550</td>\n      <td>NaN</td>\n      <td>Bryant</td>\n      <td>St</td>\n    </tr>\n    <tr>\n      <th>1005</th>\n      <td>201301087447</td>\n      <td>8</td>\n      <td>otc alterations permit</td>\n      <td>01/08/2013</td>\n      <td>0613</td>\n      <td>029</td>\n      <td>2330</td>\n      <td>NaN</td>\n      <td>Clay</td>\n      <td>St</td>\n    </tr>\n    <tr>\n      <th>1006</th>\n      <td>201301087449</td>\n      <td>8</td>\n      <td>otc alterations permit</td>\n      <td>01/08/2013</td>\n      <td>3608</td>\n      <td>017</td>\n      <td>3350</td>\n      <td>B</td>\n      <td>21st</td>\n      <td>St</td>\n    </tr>\n    <tr>\n      <th>1007</th>\n      <td>201301087450</td>\n      <td>8</td>\n      <td>otc alterations permit</td>\n      <td>01/08/2013</td>\n      <td>1861A</td>\n      <td>005</td>\n      <td>910</td>\n      <td>NaN</td>\n      <td>Lawton</td>\n      <td>St</td>\n    </tr>\n    <tr>\n      <th>1008</th>\n      <td>M365147</td>\n      <td>8</td>\n      <td>otc alterations permit</td>\n      <td>01/08/2013</td>\n      <td>1018</td>\n      <td>007</td>\n      <td>414</td>\n      <td>NaN</td>\n      <td>Spruce</td>\n      <td>St</td>\n    </tr>\n    <tr>\n      <th>1009</th>\n      <td>M365147</td>\n      <td>8</td>\n      <td>otc alterations permit</td>\n      <td>01/08/2013</td>\n      <td>1018</td>\n      <td>007</td>\n      <td>416</td>\n      <td>NaN</td>\n      <td>Spruce</td>\n      <td>St</td>\n    </tr>\n  </tbody>\n</table>\n</div>"
     },
     "execution_count": 21,
     "metadata": {},
     "output_type": "execute_result"
    }
   ],
   "source": [
    "bb = b.iloc[1000:1010, :10]\n",
    "bb"
   ]
  },
  {
   "cell_type": "code",
   "execution_count": 22,
   "metadata": {
    "ExecuteTime": {
     "end_time": "2025-03-05T11:33:09.098684Z",
     "start_time": "2025-03-05T11:33:09.078684Z"
    }
   },
   "outputs": [
    {
     "data": {
      "text/plain": "     Permit Number  Permit Type  Permit Type Definition Permit Creation Date  \\\n1000  201301087445            8  otc alterations permit           01/08/2013   \n1001  201301087431            8  otc alterations permit           01/08/2013   \n1002  201301087446            8  otc alterations permit           01/08/2013   \n1003  201301087429            8  otc alterations permit           01/08/2013   \n1004  201301087448            8  otc alterations permit           01/08/2013   \n1005  201301087447            8  otc alterations permit           01/08/2013   \n1006  201301087449            8  otc alterations permit           01/08/2013   \n1007  201301087450            8  otc alterations permit           01/08/2013   \n1008       M365147            8  otc alterations permit           01/08/2013   \n1009       M365147            8  otc alterations permit           01/08/2013   \n\n      Block   Lot  Street Number Street Number Suffix Street Name  \\\n1000   6907   013             48                    0    Mercedes   \n1001   3604  058A           4075                    0        20th   \n1002   3923   006           1550                    0      Bryant   \n1003   3705   039             55                    0        05th   \n1004   3923   006           1550                    0      Bryant   \n1005   0613   029           2330                    0        Clay   \n1006   3608   017           3350                    B        21st   \n1007  1861A   005            910                    0      Lawton   \n1008   1018   007            414                    0      Spruce   \n1009   1018   007            416                    0      Spruce   \n\n     Street Suffix  \n1000            Wy  \n1001            St  \n1002            St  \n1003            St  \n1004            St  \n1005            St  \n1006            St  \n1007            St  \n1008            St  \n1009            St  ",
      "text/html": "<div>\n<style scoped>\n    .dataframe tbody tr th:only-of-type {\n        vertical-align: middle;\n    }\n\n    .dataframe tbody tr th {\n        vertical-align: top;\n    }\n\n    .dataframe thead th {\n        text-align: right;\n    }\n</style>\n<table border=\"1\" class=\"dataframe\">\n  <thead>\n    <tr style=\"text-align: right;\">\n      <th></th>\n      <th>Permit Number</th>\n      <th>Permit Type</th>\n      <th>Permit Type Definition</th>\n      <th>Permit Creation Date</th>\n      <th>Block</th>\n      <th>Lot</th>\n      <th>Street Number</th>\n      <th>Street Number Suffix</th>\n      <th>Street Name</th>\n      <th>Street Suffix</th>\n    </tr>\n  </thead>\n  <tbody>\n    <tr>\n      <th>1000</th>\n      <td>201301087445</td>\n      <td>8</td>\n      <td>otc alterations permit</td>\n      <td>01/08/2013</td>\n      <td>6907</td>\n      <td>013</td>\n      <td>48</td>\n      <td>0</td>\n      <td>Mercedes</td>\n      <td>Wy</td>\n    </tr>\n    <tr>\n      <th>1001</th>\n      <td>201301087431</td>\n      <td>8</td>\n      <td>otc alterations permit</td>\n      <td>01/08/2013</td>\n      <td>3604</td>\n      <td>058A</td>\n      <td>4075</td>\n      <td>0</td>\n      <td>20th</td>\n      <td>St</td>\n    </tr>\n    <tr>\n      <th>1002</th>\n      <td>201301087446</td>\n      <td>8</td>\n      <td>otc alterations permit</td>\n      <td>01/08/2013</td>\n      <td>3923</td>\n      <td>006</td>\n      <td>1550</td>\n      <td>0</td>\n      <td>Bryant</td>\n      <td>St</td>\n    </tr>\n    <tr>\n      <th>1003</th>\n      <td>201301087429</td>\n      <td>8</td>\n      <td>otc alterations permit</td>\n      <td>01/08/2013</td>\n      <td>3705</td>\n      <td>039</td>\n      <td>55</td>\n      <td>0</td>\n      <td>05th</td>\n      <td>St</td>\n    </tr>\n    <tr>\n      <th>1004</th>\n      <td>201301087448</td>\n      <td>8</td>\n      <td>otc alterations permit</td>\n      <td>01/08/2013</td>\n      <td>3923</td>\n      <td>006</td>\n      <td>1550</td>\n      <td>0</td>\n      <td>Bryant</td>\n      <td>St</td>\n    </tr>\n    <tr>\n      <th>1005</th>\n      <td>201301087447</td>\n      <td>8</td>\n      <td>otc alterations permit</td>\n      <td>01/08/2013</td>\n      <td>0613</td>\n      <td>029</td>\n      <td>2330</td>\n      <td>0</td>\n      <td>Clay</td>\n      <td>St</td>\n    </tr>\n    <tr>\n      <th>1006</th>\n      <td>201301087449</td>\n      <td>8</td>\n      <td>otc alterations permit</td>\n      <td>01/08/2013</td>\n      <td>3608</td>\n      <td>017</td>\n      <td>3350</td>\n      <td>B</td>\n      <td>21st</td>\n      <td>St</td>\n    </tr>\n    <tr>\n      <th>1007</th>\n      <td>201301087450</td>\n      <td>8</td>\n      <td>otc alterations permit</td>\n      <td>01/08/2013</td>\n      <td>1861A</td>\n      <td>005</td>\n      <td>910</td>\n      <td>0</td>\n      <td>Lawton</td>\n      <td>St</td>\n    </tr>\n    <tr>\n      <th>1008</th>\n      <td>M365147</td>\n      <td>8</td>\n      <td>otc alterations permit</td>\n      <td>01/08/2013</td>\n      <td>1018</td>\n      <td>007</td>\n      <td>414</td>\n      <td>0</td>\n      <td>Spruce</td>\n      <td>St</td>\n    </tr>\n    <tr>\n      <th>1009</th>\n      <td>M365147</td>\n      <td>8</td>\n      <td>otc alterations permit</td>\n      <td>01/08/2013</td>\n      <td>1018</td>\n      <td>007</td>\n      <td>416</td>\n      <td>0</td>\n      <td>Spruce</td>\n      <td>St</td>\n    </tr>\n  </tbody>\n</table>\n</div>"
     },
     "execution_count": 22,
     "metadata": {},
     "output_type": "execute_result"
    }
   ],
   "source": [
    "bb.fillna(0)"
   ]
  },
  {
   "cell_type": "code",
   "execution_count": 23,
   "metadata": {
    "ExecuteTime": {
     "end_time": "2025-03-05T11:33:11.218149Z",
     "start_time": "2025-03-05T11:33:11.199149Z"
    }
   },
   "outputs": [
    {
     "data": {
      "text/plain": "     Permit Number  Permit Type  Permit Type Definition Permit Creation Date  \\\n1006  201301087449            8  otc alterations permit           01/08/2013   \n\n     Block  Lot  Street Number Street Number Suffix Street Name Street Suffix  \n1006  3608  017           3350                    B        21st            St  ",
      "text/html": "<div>\n<style scoped>\n    .dataframe tbody tr th:only-of-type {\n        vertical-align: middle;\n    }\n\n    .dataframe tbody tr th {\n        vertical-align: top;\n    }\n\n    .dataframe thead th {\n        text-align: right;\n    }\n</style>\n<table border=\"1\" class=\"dataframe\">\n  <thead>\n    <tr style=\"text-align: right;\">\n      <th></th>\n      <th>Permit Number</th>\n      <th>Permit Type</th>\n      <th>Permit Type Definition</th>\n      <th>Permit Creation Date</th>\n      <th>Block</th>\n      <th>Lot</th>\n      <th>Street Number</th>\n      <th>Street Number Suffix</th>\n      <th>Street Name</th>\n      <th>Street Suffix</th>\n    </tr>\n  </thead>\n  <tbody>\n    <tr>\n      <th>1006</th>\n      <td>201301087449</td>\n      <td>8</td>\n      <td>otc alterations permit</td>\n      <td>01/08/2013</td>\n      <td>3608</td>\n      <td>017</td>\n      <td>3350</td>\n      <td>B</td>\n      <td>21st</td>\n      <td>St</td>\n    </tr>\n  </tbody>\n</table>\n</div>"
     },
     "execution_count": 23,
     "metadata": {},
     "output_type": "execute_result"
    }
   ],
   "source": [
    "bb.dropna()"
   ]
  },
  {
   "cell_type": "code",
   "execution_count": 24,
   "metadata": {
    "ExecuteTime": {
     "end_time": "2025-03-05T11:33:12.699296Z",
     "start_time": "2025-03-05T11:33:12.683297Z"
    }
   },
   "outputs": [
    {
     "data": {
      "text/plain": "     Permit Number  Permit Type  Permit Type Definition Permit Creation Date  \\\n1000  201301087445            8  otc alterations permit           01/08/2013   \n1001  201301087431            8  otc alterations permit           01/08/2013   \n1002  201301087446            8  otc alterations permit           01/08/2013   \n1003  201301087429            8  otc alterations permit           01/08/2013   \n1004  201301087448            8  otc alterations permit           01/08/2013   \n1005  201301087447            8  otc alterations permit           01/08/2013   \n1006  201301087449            8  otc alterations permit           01/08/2013   \n1007  201301087450            8  otc alterations permit           01/08/2013   \n1008       M365147            8  otc alterations permit           01/08/2013   \n1009       M365147            8  otc alterations permit           01/08/2013   \n\n      Block   Lot  Street Number Street Name Street Suffix  \n1000   6907   013             48    Mercedes            Wy  \n1001   3604  058A           4075        20th            St  \n1002   3923   006           1550      Bryant            St  \n1003   3705   039             55        05th            St  \n1004   3923   006           1550      Bryant            St  \n1005   0613   029           2330        Clay            St  \n1006   3608   017           3350        21st            St  \n1007  1861A   005            910      Lawton            St  \n1008   1018   007            414      Spruce            St  \n1009   1018   007            416      Spruce            St  ",
      "text/html": "<div>\n<style scoped>\n    .dataframe tbody tr th:only-of-type {\n        vertical-align: middle;\n    }\n\n    .dataframe tbody tr th {\n        vertical-align: top;\n    }\n\n    .dataframe thead th {\n        text-align: right;\n    }\n</style>\n<table border=\"1\" class=\"dataframe\">\n  <thead>\n    <tr style=\"text-align: right;\">\n      <th></th>\n      <th>Permit Number</th>\n      <th>Permit Type</th>\n      <th>Permit Type Definition</th>\n      <th>Permit Creation Date</th>\n      <th>Block</th>\n      <th>Lot</th>\n      <th>Street Number</th>\n      <th>Street Name</th>\n      <th>Street Suffix</th>\n    </tr>\n  </thead>\n  <tbody>\n    <tr>\n      <th>1000</th>\n      <td>201301087445</td>\n      <td>8</td>\n      <td>otc alterations permit</td>\n      <td>01/08/2013</td>\n      <td>6907</td>\n      <td>013</td>\n      <td>48</td>\n      <td>Mercedes</td>\n      <td>Wy</td>\n    </tr>\n    <tr>\n      <th>1001</th>\n      <td>201301087431</td>\n      <td>8</td>\n      <td>otc alterations permit</td>\n      <td>01/08/2013</td>\n      <td>3604</td>\n      <td>058A</td>\n      <td>4075</td>\n      <td>20th</td>\n      <td>St</td>\n    </tr>\n    <tr>\n      <th>1002</th>\n      <td>201301087446</td>\n      <td>8</td>\n      <td>otc alterations permit</td>\n      <td>01/08/2013</td>\n      <td>3923</td>\n      <td>006</td>\n      <td>1550</td>\n      <td>Bryant</td>\n      <td>St</td>\n    </tr>\n    <tr>\n      <th>1003</th>\n      <td>201301087429</td>\n      <td>8</td>\n      <td>otc alterations permit</td>\n      <td>01/08/2013</td>\n      <td>3705</td>\n      <td>039</td>\n      <td>55</td>\n      <td>05th</td>\n      <td>St</td>\n    </tr>\n    <tr>\n      <th>1004</th>\n      <td>201301087448</td>\n      <td>8</td>\n      <td>otc alterations permit</td>\n      <td>01/08/2013</td>\n      <td>3923</td>\n      <td>006</td>\n      <td>1550</td>\n      <td>Bryant</td>\n      <td>St</td>\n    </tr>\n    <tr>\n      <th>1005</th>\n      <td>201301087447</td>\n      <td>8</td>\n      <td>otc alterations permit</td>\n      <td>01/08/2013</td>\n      <td>0613</td>\n      <td>029</td>\n      <td>2330</td>\n      <td>Clay</td>\n      <td>St</td>\n    </tr>\n    <tr>\n      <th>1006</th>\n      <td>201301087449</td>\n      <td>8</td>\n      <td>otc alterations permit</td>\n      <td>01/08/2013</td>\n      <td>3608</td>\n      <td>017</td>\n      <td>3350</td>\n      <td>21st</td>\n      <td>St</td>\n    </tr>\n    <tr>\n      <th>1007</th>\n      <td>201301087450</td>\n      <td>8</td>\n      <td>otc alterations permit</td>\n      <td>01/08/2013</td>\n      <td>1861A</td>\n      <td>005</td>\n      <td>910</td>\n      <td>Lawton</td>\n      <td>St</td>\n    </tr>\n    <tr>\n      <th>1008</th>\n      <td>M365147</td>\n      <td>8</td>\n      <td>otc alterations permit</td>\n      <td>01/08/2013</td>\n      <td>1018</td>\n      <td>007</td>\n      <td>414</td>\n      <td>Spruce</td>\n      <td>St</td>\n    </tr>\n    <tr>\n      <th>1009</th>\n      <td>M365147</td>\n      <td>8</td>\n      <td>otc alterations permit</td>\n      <td>01/08/2013</td>\n      <td>1018</td>\n      <td>007</td>\n      <td>416</td>\n      <td>Spruce</td>\n      <td>St</td>\n    </tr>\n  </tbody>\n</table>\n</div>"
     },
     "execution_count": 24,
     "metadata": {},
     "output_type": "execute_result"
    }
   ],
   "source": [
    "bb.dropna(axis=1)"
   ]
  },
  {
   "cell_type": "code",
   "execution_count": 25,
   "metadata": {
    "ExecuteTime": {
     "end_time": "2025-03-05T11:33:15.094851Z",
     "start_time": "2025-03-05T11:33:15.081850Z"
    }
   },
   "outputs": [
    {
     "name": "stderr",
     "output_type": "stream",
     "text": [
      "C:\\Users\\21009\\AppData\\Local\\Temp\\ipykernel_20800\\2273349803.py:1: FutureWarning: DataFrame.fillna with 'method' is deprecated and will raise in a future version. Use obj.ffill() or obj.bfill() instead.\n",
      "  bb.fillna(method='bfill', axis=1)\n"
     ]
    },
    {
     "data": {
      "text/plain": "     Permit Number Permit Type  Permit Type Definition Permit Creation Date  \\\n1000  201301087445           8  otc alterations permit           01/08/2013   \n1001  201301087431           8  otc alterations permit           01/08/2013   \n1002  201301087446           8  otc alterations permit           01/08/2013   \n1003  201301087429           8  otc alterations permit           01/08/2013   \n1004  201301087448           8  otc alterations permit           01/08/2013   \n1005  201301087447           8  otc alterations permit           01/08/2013   \n1006  201301087449           8  otc alterations permit           01/08/2013   \n1007  201301087450           8  otc alterations permit           01/08/2013   \n1008       M365147           8  otc alterations permit           01/08/2013   \n1009       M365147           8  otc alterations permit           01/08/2013   \n\n      Block   Lot Street Number Street Number Suffix Street Name Street Suffix  \n1000   6907   013            48             Mercedes    Mercedes            Wy  \n1001   3604  058A          4075                 20th        20th            St  \n1002   3923   006          1550               Bryant      Bryant            St  \n1003   3705   039            55                 05th        05th            St  \n1004   3923   006          1550               Bryant      Bryant            St  \n1005   0613   029          2330                 Clay        Clay            St  \n1006   3608   017          3350                    B        21st            St  \n1007  1861A   005           910               Lawton      Lawton            St  \n1008   1018   007           414               Spruce      Spruce            St  \n1009   1018   007           416               Spruce      Spruce            St  ",
      "text/html": "<div>\n<style scoped>\n    .dataframe tbody tr th:only-of-type {\n        vertical-align: middle;\n    }\n\n    .dataframe tbody tr th {\n        vertical-align: top;\n    }\n\n    .dataframe thead th {\n        text-align: right;\n    }\n</style>\n<table border=\"1\" class=\"dataframe\">\n  <thead>\n    <tr style=\"text-align: right;\">\n      <th></th>\n      <th>Permit Number</th>\n      <th>Permit Type</th>\n      <th>Permit Type Definition</th>\n      <th>Permit Creation Date</th>\n      <th>Block</th>\n      <th>Lot</th>\n      <th>Street Number</th>\n      <th>Street Number Suffix</th>\n      <th>Street Name</th>\n      <th>Street Suffix</th>\n    </tr>\n  </thead>\n  <tbody>\n    <tr>\n      <th>1000</th>\n      <td>201301087445</td>\n      <td>8</td>\n      <td>otc alterations permit</td>\n      <td>01/08/2013</td>\n      <td>6907</td>\n      <td>013</td>\n      <td>48</td>\n      <td>Mercedes</td>\n      <td>Mercedes</td>\n      <td>Wy</td>\n    </tr>\n    <tr>\n      <th>1001</th>\n      <td>201301087431</td>\n      <td>8</td>\n      <td>otc alterations permit</td>\n      <td>01/08/2013</td>\n      <td>3604</td>\n      <td>058A</td>\n      <td>4075</td>\n      <td>20th</td>\n      <td>20th</td>\n      <td>St</td>\n    </tr>\n    <tr>\n      <th>1002</th>\n      <td>201301087446</td>\n      <td>8</td>\n      <td>otc alterations permit</td>\n      <td>01/08/2013</td>\n      <td>3923</td>\n      <td>006</td>\n      <td>1550</td>\n      <td>Bryant</td>\n      <td>Bryant</td>\n      <td>St</td>\n    </tr>\n    <tr>\n      <th>1003</th>\n      <td>201301087429</td>\n      <td>8</td>\n      <td>otc alterations permit</td>\n      <td>01/08/2013</td>\n      <td>3705</td>\n      <td>039</td>\n      <td>55</td>\n      <td>05th</td>\n      <td>05th</td>\n      <td>St</td>\n    </tr>\n    <tr>\n      <th>1004</th>\n      <td>201301087448</td>\n      <td>8</td>\n      <td>otc alterations permit</td>\n      <td>01/08/2013</td>\n      <td>3923</td>\n      <td>006</td>\n      <td>1550</td>\n      <td>Bryant</td>\n      <td>Bryant</td>\n      <td>St</td>\n    </tr>\n    <tr>\n      <th>1005</th>\n      <td>201301087447</td>\n      <td>8</td>\n      <td>otc alterations permit</td>\n      <td>01/08/2013</td>\n      <td>0613</td>\n      <td>029</td>\n      <td>2330</td>\n      <td>Clay</td>\n      <td>Clay</td>\n      <td>St</td>\n    </tr>\n    <tr>\n      <th>1006</th>\n      <td>201301087449</td>\n      <td>8</td>\n      <td>otc alterations permit</td>\n      <td>01/08/2013</td>\n      <td>3608</td>\n      <td>017</td>\n      <td>3350</td>\n      <td>B</td>\n      <td>21st</td>\n      <td>St</td>\n    </tr>\n    <tr>\n      <th>1007</th>\n      <td>201301087450</td>\n      <td>8</td>\n      <td>otc alterations permit</td>\n      <td>01/08/2013</td>\n      <td>1861A</td>\n      <td>005</td>\n      <td>910</td>\n      <td>Lawton</td>\n      <td>Lawton</td>\n      <td>St</td>\n    </tr>\n    <tr>\n      <th>1008</th>\n      <td>M365147</td>\n      <td>8</td>\n      <td>otc alterations permit</td>\n      <td>01/08/2013</td>\n      <td>1018</td>\n      <td>007</td>\n      <td>414</td>\n      <td>Spruce</td>\n      <td>Spruce</td>\n      <td>St</td>\n    </tr>\n    <tr>\n      <th>1009</th>\n      <td>M365147</td>\n      <td>8</td>\n      <td>otc alterations permit</td>\n      <td>01/08/2013</td>\n      <td>1018</td>\n      <td>007</td>\n      <td>416</td>\n      <td>Spruce</td>\n      <td>Spruce</td>\n      <td>St</td>\n    </tr>\n  </tbody>\n</table>\n</div>"
     },
     "execution_count": 25,
     "metadata": {},
     "output_type": "execute_result"
    }
   ],
   "source": [
    "bb.fillna(method='bfill', axis=1)"
   ]
  },
  {
   "cell_type": "code",
   "execution_count": 26,
   "metadata": {
    "ExecuteTime": {
     "end_time": "2025-03-05T11:33:17.026987Z",
     "start_time": "2025-03-05T11:33:17.009989Z"
    }
   },
   "outputs": [
    {
     "name": "stderr",
     "output_type": "stream",
     "text": [
      "C:\\Users\\21009\\AppData\\Local\\Temp\\ipykernel_20800\\393985037.py:1: FutureWarning: DataFrame.fillna with 'method' is deprecated and will raise in a future version. Use obj.ffill() or obj.bfill() instead.\n",
      "  bb.fillna(method='bfill', axis=0)\n"
     ]
    },
    {
     "data": {
      "text/plain": "     Permit Number  Permit Type  Permit Type Definition Permit Creation Date  \\\n1000  201301087445            8  otc alterations permit           01/08/2013   \n1001  201301087431            8  otc alterations permit           01/08/2013   \n1002  201301087446            8  otc alterations permit           01/08/2013   \n1003  201301087429            8  otc alterations permit           01/08/2013   \n1004  201301087448            8  otc alterations permit           01/08/2013   \n1005  201301087447            8  otc alterations permit           01/08/2013   \n1006  201301087449            8  otc alterations permit           01/08/2013   \n1007  201301087450            8  otc alterations permit           01/08/2013   \n1008       M365147            8  otc alterations permit           01/08/2013   \n1009       M365147            8  otc alterations permit           01/08/2013   \n\n      Block   Lot  Street Number Street Number Suffix Street Name  \\\n1000   6907   013             48                    B    Mercedes   \n1001   3604  058A           4075                    B        20th   \n1002   3923   006           1550                    B      Bryant   \n1003   3705   039             55                    B        05th   \n1004   3923   006           1550                    B      Bryant   \n1005   0613   029           2330                    B        Clay   \n1006   3608   017           3350                    B        21st   \n1007  1861A   005            910                  NaN      Lawton   \n1008   1018   007            414                  NaN      Spruce   \n1009   1018   007            416                  NaN      Spruce   \n\n     Street Suffix  \n1000            Wy  \n1001            St  \n1002            St  \n1003            St  \n1004            St  \n1005            St  \n1006            St  \n1007            St  \n1008            St  \n1009            St  ",
      "text/html": "<div>\n<style scoped>\n    .dataframe tbody tr th:only-of-type {\n        vertical-align: middle;\n    }\n\n    .dataframe tbody tr th {\n        vertical-align: top;\n    }\n\n    .dataframe thead th {\n        text-align: right;\n    }\n</style>\n<table border=\"1\" class=\"dataframe\">\n  <thead>\n    <tr style=\"text-align: right;\">\n      <th></th>\n      <th>Permit Number</th>\n      <th>Permit Type</th>\n      <th>Permit Type Definition</th>\n      <th>Permit Creation Date</th>\n      <th>Block</th>\n      <th>Lot</th>\n      <th>Street Number</th>\n      <th>Street Number Suffix</th>\n      <th>Street Name</th>\n      <th>Street Suffix</th>\n    </tr>\n  </thead>\n  <tbody>\n    <tr>\n      <th>1000</th>\n      <td>201301087445</td>\n      <td>8</td>\n      <td>otc alterations permit</td>\n      <td>01/08/2013</td>\n      <td>6907</td>\n      <td>013</td>\n      <td>48</td>\n      <td>B</td>\n      <td>Mercedes</td>\n      <td>Wy</td>\n    </tr>\n    <tr>\n      <th>1001</th>\n      <td>201301087431</td>\n      <td>8</td>\n      <td>otc alterations permit</td>\n      <td>01/08/2013</td>\n      <td>3604</td>\n      <td>058A</td>\n      <td>4075</td>\n      <td>B</td>\n      <td>20th</td>\n      <td>St</td>\n    </tr>\n    <tr>\n      <th>1002</th>\n      <td>201301087446</td>\n      <td>8</td>\n      <td>otc alterations permit</td>\n      <td>01/08/2013</td>\n      <td>3923</td>\n      <td>006</td>\n      <td>1550</td>\n      <td>B</td>\n      <td>Bryant</td>\n      <td>St</td>\n    </tr>\n    <tr>\n      <th>1003</th>\n      <td>201301087429</td>\n      <td>8</td>\n      <td>otc alterations permit</td>\n      <td>01/08/2013</td>\n      <td>3705</td>\n      <td>039</td>\n      <td>55</td>\n      <td>B</td>\n      <td>05th</td>\n      <td>St</td>\n    </tr>\n    <tr>\n      <th>1004</th>\n      <td>201301087448</td>\n      <td>8</td>\n      <td>otc alterations permit</td>\n      <td>01/08/2013</td>\n      <td>3923</td>\n      <td>006</td>\n      <td>1550</td>\n      <td>B</td>\n      <td>Bryant</td>\n      <td>St</td>\n    </tr>\n    <tr>\n      <th>1005</th>\n      <td>201301087447</td>\n      <td>8</td>\n      <td>otc alterations permit</td>\n      <td>01/08/2013</td>\n      <td>0613</td>\n      <td>029</td>\n      <td>2330</td>\n      <td>B</td>\n      <td>Clay</td>\n      <td>St</td>\n    </tr>\n    <tr>\n      <th>1006</th>\n      <td>201301087449</td>\n      <td>8</td>\n      <td>otc alterations permit</td>\n      <td>01/08/2013</td>\n      <td>3608</td>\n      <td>017</td>\n      <td>3350</td>\n      <td>B</td>\n      <td>21st</td>\n      <td>St</td>\n    </tr>\n    <tr>\n      <th>1007</th>\n      <td>201301087450</td>\n      <td>8</td>\n      <td>otc alterations permit</td>\n      <td>01/08/2013</td>\n      <td>1861A</td>\n      <td>005</td>\n      <td>910</td>\n      <td>NaN</td>\n      <td>Lawton</td>\n      <td>St</td>\n    </tr>\n    <tr>\n      <th>1008</th>\n      <td>M365147</td>\n      <td>8</td>\n      <td>otc alterations permit</td>\n      <td>01/08/2013</td>\n      <td>1018</td>\n      <td>007</td>\n      <td>414</td>\n      <td>NaN</td>\n      <td>Spruce</td>\n      <td>St</td>\n    </tr>\n    <tr>\n      <th>1009</th>\n      <td>M365147</td>\n      <td>8</td>\n      <td>otc alterations permit</td>\n      <td>01/08/2013</td>\n      <td>1018</td>\n      <td>007</td>\n      <td>416</td>\n      <td>NaN</td>\n      <td>Spruce</td>\n      <td>St</td>\n    </tr>\n  </tbody>\n</table>\n</div>"
     },
     "execution_count": 26,
     "metadata": {},
     "output_type": "execute_result"
    }
   ],
   "source": [
    "bb.fillna(method='bfill', axis=0)"
   ]
  },
  {
   "cell_type": "code",
   "execution_count": null,
   "metadata": {},
   "outputs": [],
   "source": []
  },
  {
   "cell_type": "code",
   "outputs": [
    {
     "name": "stdout",
     "output_type": "stream",
     "text": [
      "原始 DataFrame：\n",
      "      A    B    C\n",
      "0  1.0  4.0  NaN\n",
      "1  NaN  NaN  8.0\n",
      "2  3.0  6.0  9.0\n",
      "\n",
      "按列向后填充后的 DataFrame：\n",
      "      A    B    C\n",
      "0  1.0  4.0  8.0\n",
      "1  3.0  6.0  8.0\n",
      "2  3.0  6.0  9.0\n",
      "\n",
      "按行向后填充后的 DataFrame：\n",
      "      A    B    C\n",
      "0  1.0  4.0  NaN\n",
      "1  8.0  8.0  8.0\n",
      "2  3.0  6.0  9.0\n"
     ]
    },
    {
     "name": "stderr",
     "output_type": "stream",
     "text": [
      "C:\\Users\\21009\\AppData\\Local\\Temp\\ipykernel_20800\\3561559844.py:10: FutureWarning: DataFrame.fillna with 'method' is deprecated and will raise in a future version. Use obj.ffill() or obj.bfill() instead.\n",
      "  bb_filled_col = bb.fillna(method='bfill', axis=0)\n",
      "C:\\Users\\21009\\AppData\\Local\\Temp\\ipykernel_20800\\3561559844.py:12: FutureWarning: DataFrame.fillna with 'method' is deprecated and will raise in a future version. Use obj.ffill() or obj.bfill() instead.\n",
      "  bb_filled_row = bb.fillna(method='bfill', axis=1)\n"
     ]
    }
   ],
   "source": [
    "import numpy as np\n",
    "\n",
    "data = {\n",
    "    \"A\": [1, np.nan, 3],\n",
    "    \"B\": [4, np.nan, 6],\n",
    "    \"C\": [np.nan, 8, 9]\n",
    "}\n",
    "bb = pd.DataFrame(data)\n",
    "print(\"原始 DataFrame：\\n\", bb)\n",
    "bb_filled_col = bb.fillna(method='bfill', axis=0)\n",
    "print(\"\\n按列向后填充后的 DataFrame：\\n\", bb_filled_col)\n",
    "bb_filled_row = bb.fillna(method='bfill', axis=1)\n",
    "print(\"\\n按行向后填充后的 DataFrame：\\n\", bb_filled_row)"
   ],
   "metadata": {
    "collapsed": false,
    "ExecuteTime": {
     "end_time": "2025-03-05T11:41:04.309995Z",
     "start_time": "2025-03-05T11:41:04.296989Z"
    }
   },
   "execution_count": 27
  }
 ],
 "metadata": {
  "kernelspec": {
   "display_name": "base",
   "language": "python",
   "name": "python3"
  },
  "language_info": {
   "codemirror_mode": {
    "name": "ipython",
    "version": 3
   },
   "file_extension": ".py",
   "mimetype": "text/x-python",
   "name": "python",
   "nbconvert_exporter": "python",
   "pygments_lexer": "ipython3",
   "version": "3.9.13"
  },
  "orig_nbformat": 4
 },
 "nbformat": 4,
 "nbformat_minor": 2
}
